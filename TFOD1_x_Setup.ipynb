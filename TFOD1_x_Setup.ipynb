{
  "nbformat": 4,
  "nbformat_minor": 0,
  "metadata": {
    "colab": {
      "private_outputs": true,
      "provenance": [],
      "include_colab_link": true
    },
    "kernelspec": {
      "name": "python3",
      "display_name": "Python 3"
    },
    "accelerator": "GPU"
  },
  "cells": [
    {
      "cell_type": "markdown",
      "metadata": {
        "id": "view-in-github",
        "colab_type": "text"
      },
      "source": [
        "<a href=\"https://colab.research.google.com/github/MorshedulHoque/Tensorflow-object-detection/blob/main/TFOD1_x_Setup.ipynb\" target=\"_parent\"><img src=\"https://colab.research.google.com/assets/colab-badge.svg\" alt=\"Open In Colab\"/></a>"
      ]
    },
    {
      "cell_type": "markdown",
      "metadata": {
        "id": "6o5HhUfPWfDf"
      },
      "source": [
        "#Tensorflow 1.x Object Detection Setup\n",
        "\n",
        "\n",
        "### GPU check for Google Colab"
      ]
    },
    {
      "cell_type": "code",
      "metadata": {
        "id": "73zfIpAjUSYv"
      },
      "source": [
        "!nvidia-smi"
      ],
      "execution_count": null,
      "outputs": []
    },
    {
      "cell_type": "markdown",
      "metadata": {
        "id": "gFZ6EIeNWvXy"
      },
      "source": [
        "### Checking the libraries comes preinstalled with Google Colab"
      ]
    },
    {
      "cell_type": "code",
      "metadata": {
        "id": "9vb3hAOQUf4e"
      },
      "source": [
        "!pip freeze"
      ],
      "execution_count": null,
      "outputs": []
    },
    {
      "cell_type": "markdown",
      "metadata": {
        "id": "-bNl8i5fW4ue"
      },
      "source": [
        "### Uninstalling the latest version of Tensorflow which is 2.4.1"
      ]
    },
    {
      "cell_type": "code",
      "metadata": {
        "id": "lFVsOUaIUjv-"
      },
      "source": [
        "!pip uninstall tensorflow==2.4.1"
      ],
      "execution_count": null,
      "outputs": []
    },
    {
      "cell_type": "markdown",
      "metadata": {
        "id": "16YmPwZjXB0S"
      },
      "source": [
        "### Installing the version of tensorflow-gpu 1.14.0 which we need for TF 1.x Object Detectection"
      ]
    },
    {
      "cell_type": "code",
      "metadata": {
        "id": "XisIt5oPU6OM"
      },
      "source": [
        "!pip install tensorflow-gpu==1.14.0"
      ],
      "execution_count": null,
      "outputs": []
    },
    {
      "cell_type": "markdown",
      "metadata": {
        "id": "MJBC0JoVXPht"
      },
      "source": [
        "### Importing tensorflow"
      ]
    },
    {
      "cell_type": "code",
      "metadata": {
        "id": "GtLAZbYKVDQI"
      },
      "source": [
        "import tensorflow as tf"
      ],
      "execution_count": null,
      "outputs": []
    },
    {
      "cell_type": "markdown",
      "metadata": {
        "id": "iYz5r8QrXWPy"
      },
      "source": [
        "### Tensorflow version check "
      ]
    },
    {
      "cell_type": "code",
      "metadata": {
        "id": "f355CyFDVhgr"
      },
      "source": [
        "print(tf.__version__)"
      ],
      "execution_count": null,
      "outputs": []
    },
    {
      "cell_type": "markdown",
      "metadata": {
        "id": "l6MjmfoAVmOt"
      },
      "source": [
        "### GPU check"
      ]
    },
    {
      "cell_type": "code",
      "metadata": {
        "id": "kTwExdBNXxjc"
      },
      "source": [
        "tf.test.is_gpu_available(\n",
        "    cuda_only=False, min_cuda_compute_capability=None\n",
        ")"
      ],
      "execution_count": null,
      "outputs": []
    },
    {
      "cell_type": "markdown",
      "metadata": {
        "id": "ZPl77y9WYLyF"
      },
      "source": [
        "### Build with CUDA Test"
      ]
    },
    {
      "cell_type": "code",
      "metadata": {
        "id": "iGmLHHcWXyHy"
      },
      "source": [
        "tf.test.is_built_with_cuda()"
      ],
      "execution_count": null,
      "outputs": []
    },
    {
      "cell_type": "code",
      "metadata": {
        "id": "u-0g71Z2Yp0s"
      },
      "source": [
        "from google.colab import drive\n",
        "drive.mount('/content/drive')"
      ],
      "execution_count": null,
      "outputs": []
    },
    {
      "cell_type": "markdown",
      "metadata": {
        "id": "gHua9pISX_MG"
      },
      "source": [
        "### Tensorflow 1.x Object Detection Setup"
      ]
    },
    {
      "cell_type": "code",
      "metadata": {
        "id": "QRW5FZddalc4"
      },
      "source": [
        "# Navigate to Google Drive\n",
        "%cd /content/drive/MyDrive/TFOD1.x\n",
        "!pwd"
      ],
      "execution_count": null,
      "outputs": []
    },
    {
      "cell_type": "code",
      "metadata": {
        "id": "wrNaW4j9ZJ7R"
      },
      "source": [
        "# Download Repo https://github.com/tensorflow/models/tree/v1.13.0\n",
        "!wget https://github.com/tensorflow/models/archive/v1.13.0.zip"
      ],
      "execution_count": null,
      "outputs": []
    },
    {
      "cell_type": "code",
      "metadata": {
        "id": "vmADj77vaRVN"
      },
      "source": [
        "#Unzipping the zip file\n",
        "!unzip  v1.13.0.zip"
      ],
      "execution_count": null,
      "outputs": []
    },
    {
      "cell_type": "code",
      "metadata": {
        "id": "0TjeNEtjbwAI"
      },
      "source": [
        "!ls\n",
        "# Rename models-1.13.0 to models\n",
        "!mv models-1.13.0/ models\n"
      ],
      "execution_count": null,
      "outputs": []
    },
    {
      "cell_type": "code",
      "metadata": {
        "id": "yIvU5-IVb9H1"
      },
      "source": [
        "!ls"
      ],
      "execution_count": null,
      "outputs": []
    },
    {
      "cell_type": "code",
      "metadata": {
        "id": "csqQ5RggcWds"
      },
      "source": [
        "%cd models/research/\n",
        "!ls"
      ],
      "execution_count": null,
      "outputs": []
    },
    {
      "cell_type": "code",
      "metadata": {
        "id": "d0lQJxaTdLIs"
      },
      "source": [
        "%cd object_detection/\n",
        "!ls"
      ],
      "execution_count": null,
      "outputs": []
    },
    {
      "cell_type": "code",
      "metadata": {
        "id": "1GBMWdg7ZxJS"
      },
      "source": [
        "### Protos Conversion to Python\n",
        "%cd /content/drive/MyDrive/TFOD1.x/models/research\n",
        "!protoc object_detection/protos/*.proto --python_out=."
      ],
      "execution_count": null,
      "outputs": []
    },
    {
      "cell_type": "code",
      "metadata": {
        "id": "-ui9kPR4ZxGC"
      },
      "source": [],
      "execution_count": null,
      "outputs": []
    },
    {
      "cell_type": "code",
      "metadata": {
        "id": "JTHKgwC6ZxDM"
      },
      "source": [],
      "execution_count": null,
      "outputs": []
    },
    {
      "cell_type": "code",
      "metadata": {
        "id": "GObU3x-NZxAB"
      },
      "source": [],
      "execution_count": null,
      "outputs": []
    },
    {
      "cell_type": "code",
      "metadata": {
        "id": "iqSxC7gcZw9C"
      },
      "source": [],
      "execution_count": null,
      "outputs": []
    },
    {
      "cell_type": "code",
      "metadata": {
        "id": "quGrO8ooZw6b"
      },
      "source": [],
      "execution_count": null,
      "outputs": []
    },
    {
      "cell_type": "code",
      "metadata": {
        "id": "RoqrH3ckZw3d"
      },
      "source": [],
      "execution_count": null,
      "outputs": []
    },
    {
      "cell_type": "code",
      "metadata": {
        "id": "nAKMfAMFZw0p"
      },
      "source": [],
      "execution_count": null,
      "outputs": []
    },
    {
      "cell_type": "code",
      "metadata": {
        "id": "wCSecXEUZwxe"
      },
      "source": [],
      "execution_count": null,
      "outputs": []
    },
    {
      "cell_type": "code",
      "metadata": {
        "id": "cxWwcuFUZwt6"
      },
      "source": [],
      "execution_count": null,
      "outputs": []
    },
    {
      "cell_type": "code",
      "metadata": {
        "id": "8Y8rROleZwqs"
      },
      "source": [],
      "execution_count": null,
      "outputs": []
    },
    {
      "cell_type": "code",
      "metadata": {
        "id": "kIOBgiFgZwnZ"
      },
      "source": [],
      "execution_count": null,
      "outputs": []
    }
  ]
}